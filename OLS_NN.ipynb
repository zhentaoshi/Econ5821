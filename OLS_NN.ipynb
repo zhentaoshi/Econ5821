{
 "cells": [
  {
   "cell_type": "markdown",
   "metadata": {},
   "source": [
    "# OLS via Neural Network"
   ]
  },
  {
   "cell_type": "markdown",
   "metadata": {},
   "source": [
    "Interpret linear regression as an extremely simple feedforward neural network.\n"
   ]
  },
  {
   "cell_type": "code",
   "execution_count": 1,
   "metadata": {},
   "outputs": [
    {
     "name": "stderr",
     "output_type": "stream",
     "text": [
      "C:\\Users\\zhent\\AppData\\Local\\Temp\\ipykernel_41380\\3021539496.py:2: DeprecationWarning: \n",
      "Pyarrow will become a required dependency of pandas in the next major release of pandas (pandas 3.0),\n",
      "(to allow more performant data types, such as the Arrow string type, and better interoperability with other libraries)\n",
      "but was not found to be installed on your system.\n",
      "If this would cause problems for you,\n",
      "please provide us feedback at https://github.com/pandas-dev/pandas/issues/54466\n",
      "        \n",
      "  import pandas as pd\n"
     ]
    }
   ],
   "source": [
    "import numpy as np\n",
    "import pandas as pd\n",
    "from sklearn.linear_model import LinearRegression\n",
    "from sklearn.metrics import mean_squared_error\n",
    "\n",
    "import matplotlib.pyplot as plt\n",
    "import statsmodels.api as sm\n",
    "\n",
    "# Set random seed for reproducibility\n",
    "np.random.seed(42)\n",
    "\n",
    "# Generate synthetic data with three regressors\n",
    "n = 100  # number of observations\n",
    "x1 = np.random.normal(0, 1, n)  # first explanatory variable\n",
    "x2 = np.random.normal(0, 1, n)  # second explanatory variable\n",
    "x3 = np.random.normal(0, 1, n)  # third explanatory variable\n",
    "beta_0 = 0.5  # intercept\n",
    "beta_1 = 1.  # coefficient for x1\n",
    "beta_2 = -1.  # coefficient for x2\n",
    "beta_3 = 1.  # coefficient for x3\n",
    "epsilon = np.random.normal(0, 1, n)  # error term with standard normal distribution\n",
    "y = beta_0 + beta_1 * x1 + beta_2 * x2 + beta_3 * x3 + epsilon  # dependent variable\n",
    "\n",
    "# Create a DataFrame\n",
    "data = pd.DataFrame({'x1': x1, 'x2': x2, 'x3': x3, 'y': y})\n"
   ]
  },
  {
   "cell_type": "markdown",
   "metadata": {},
   "source": [
    "Use `sm.OLS()` as in statistics / econometrics."
   ]
  },
  {
   "cell_type": "code",
   "execution_count": 2,
   "metadata": {},
   "outputs": [
    {
     "name": "stdout",
     "output_type": "stream",
     "text": [
      "OLS Regression Results Summary:\n",
      "                            OLS Regression Results                            \n",
      "==============================================================================\n",
      "Dep. Variable:                      y   R-squared:                       0.817\n",
      "Model:                            OLS   Adj. R-squared:                  0.811\n",
      "Method:                 Least Squares   F-statistic:                     142.8\n",
      "Date:                Fri, 07 Mar 2025   Prob (F-statistic):           2.84e-35\n",
      "Time:                        15:14:45   Log-Likelihood:                -127.46\n",
      "No. Observations:                 100   AIC:                             262.9\n",
      "Df Residuals:                      96   BIC:                             273.3\n",
      "Df Model:                           3                                         \n",
      "Covariance Type:            nonrobust                                         \n",
      "==============================================================================\n",
      "                 coef    std err          t      P>|t|      [0.025      0.975]\n",
      "------------------------------------------------------------------------------\n",
      "const          0.5875      0.089      6.584      0.000       0.410       0.765\n",
      "x1             0.8227      0.100      8.188      0.000       0.623       1.022\n",
      "x2            -1.0382      0.094    -11.047      0.000      -1.225      -0.852\n",
      "x3             1.0269      0.083     12.309      0.000       0.861       1.193\n",
      "==============================================================================\n",
      "Omnibus:                        1.353   Durbin-Watson:                   1.821\n",
      "Prob(Omnibus):                  0.508   Jarque-Bera (JB):                1.317\n",
      "Skew:                           0.169   Prob(JB):                        0.518\n",
      "Kurtosis:                       2.551   Cond. No.                         1.37\n",
      "==============================================================================\n",
      "\n",
      "Notes:\n",
      "[1] Standard Errors assume that the covariance matrix of the errors is correctly specified.\n"
     ]
    }
   ],
   "source": [
    "# Fit OLS regression using statsmodels\n",
    "# produce an X with `x1`, x2`, and `x3` in data\n",
    "X = data[['x1', 'x2', 'x3']]\n",
    "X = sm.add_constant(X)  # add a constant term to the model\n",
    "y = data['y']\n",
    "\n",
    "model = sm.OLS(y, X).fit()\n",
    "print(\"OLS Regression Results Summary:\")\n",
    "print(model.summary())\n",
    "\n"
   ]
  },
  {
   "cell_type": "markdown",
   "metadata": {},
   "source": [
    "A `pytorch` implemenation."
   ]
  },
  {
   "cell_type": "code",
   "execution_count": 3,
   "metadata": {},
   "outputs": [],
   "source": [
    "import torch\n",
    "import torch.nn as nn\n",
    "import torch.optim as optim\n",
    "\n",
    "# Convert the data to PyTorch tensors\n",
    "X_tensor = torch.tensor(data[['x1', 'x2', 'x3']].values, dtype=torch.float32)\n",
    "y_tensor = torch.tensor(data['y'].values.reshape(-1, 1), dtype=torch.float32)"
   ]
  },
  {
   "cell_type": "code",
   "execution_count": 4,
   "metadata": {},
   "outputs": [],
   "source": [
    "# Define a simple neural network with one hidden layer\n",
    "class OLS_NN(nn.Module):\n",
    "    def __init__(self):\n",
    "        super(OLS_NN, self).__init__()\n",
    "        self.output = nn.Linear(3, 1)  # three inputs, one output\n",
    "\n",
    "    def forward(self, x):\n",
    "        return self.output(x)  # identity function as activation\n"
   ]
  },
  {
   "cell_type": "code",
   "execution_count": 5,
   "metadata": {},
   "outputs": [],
   "source": [
    "# Instantiate the model, define the loss function and the optimizer\n",
    "model = OLS_NN()\n",
    "criterion = nn.MSELoss()\n",
    "optimizer = optim.SGD(model.parameters(), lr=0.01)"
   ]
  },
  {
   "cell_type": "code",
   "execution_count": 6,
   "metadata": {},
   "outputs": [
    {
     "name": "stdout",
     "output_type": "stream",
     "text": [
      "Epoch 200/1000, Loss: 0.7511\n",
      "Epoch 400/1000, Loss: 0.7493\n",
      "Epoch 600/1000, Loss: 0.7493\n",
      "Epoch 800/1000, Loss: 0.7493\n",
      "Epoch 1000/1000, Loss: 0.7493\n"
     ]
    }
   ],
   "source": [
    "# Train the model\n",
    "epochs = 1000\n",
    "for epoch in range(epochs):\n",
    "    optimizer.zero_grad()\n",
    "    outputs = model(X_tensor)\n",
    "    loss = criterion(outputs, y_tensor)\n",
    "    loss.backward()\n",
    "    optimizer.step()\n",
    "\n",
    "    if (epoch + 1) % 200 == 0:\n",
    "        print(f'Epoch {epoch + 1}/{epochs}, Loss: {loss.item():.4f}')\n"
   ]
  },
  {
   "cell_type": "code",
   "execution_count": 7,
   "metadata": {},
   "outputs": [
    {
     "name": "stdout",
     "output_type": "stream",
     "text": [
      "\n",
      "Weights after training:\n",
      "output.weight: [[ 0.8226739 -1.0382419  1.0269035]]\n",
      "output.bias: [0.587531]\n"
     ]
    }
   ],
   "source": [
    "# Report the weights after training\n",
    "print(\"\\nWeights after training:\")\n",
    "for name, param in model.named_parameters():\n",
    "    print(f\"{name}: {param.data.numpy()}\")"
   ]
  },
  {
   "cell_type": "markdown",
   "metadata": {},
   "source": [
    "The estimated coefficients from NN are the same as from OLS."
   ]
  },
  {
   "cell_type": "markdown",
   "metadata": {},
   "source": []
  }
 ],
 "metadata": {
  "kernelspec": {
   "display_name": "pytorch",
   "language": "python",
   "name": "python3"
  },
  "language_info": {
   "codemirror_mode": {
    "name": "ipython",
    "version": 3
   },
   "file_extension": ".py",
   "mimetype": "text/x-python",
   "name": "python",
   "nbconvert_exporter": "python",
   "pygments_lexer": "ipython3",
   "version": "3.11.5"
  }
 },
 "nbformat": 4,
 "nbformat_minor": 2
}
