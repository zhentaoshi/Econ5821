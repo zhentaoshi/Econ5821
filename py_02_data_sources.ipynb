{
 "cells": [
  {
   "cell_type": "markdown",
   "id": "9276a3ac",
   "metadata": {
    "slideshow": {
     "slide_type": "slide"
    }
   },
   "source": [
    "# Lecture 2: Data Sources\n",
    "\n",
    "### Zhentao Shi\n",
    "\n",
    "《汉书·地理志》:京兆尹，元始二年户十九万五千七百二，口六十八万二千四百六十八。县十二：长安，新丰，船司空，蓝田，华阴，郑，湖，下邽，南陵，奉明，霸陵，杜陵。\n",
    "\n",
    "kernel: base (python 3.11.3)"
   ]
  },
  {
   "cell_type": "markdown",
   "id": "2c33ae13",
   "metadata": {
    "slideshow": {
     "slide_type": "slide"
    }
   },
   "source": [
    "* Online archives\n",
    "* API (Application Programming Interface)\n",
    "* Proprietary data\n",
    "* Survey data"
   ]
  },
  {
   "cell_type": "markdown",
   "id": "b3f9b319",
   "metadata": {
    "slideshow": {
     "slide_type": "slide"
    }
   },
   "source": [
    "## Public data\n",
    "\n",
    "* Time Series\n",
    "  - Natural ordering of observations\n",
    "  - A single realization in history\n",
    "  - eg. GDP, stock prices\n",
    "\n",
    "* Microeconomic data\n",
    "  - No natural ordering\n",
    "  - Collected at the same time, or time does not matter\n",
    "  - [Auction data](https://capcp.la.psu.edu/data-and-software/alaska-oil-and-gas-auction-data/)"
   ]
  },
  {
   "cell_type": "markdown",
   "id": "6f647079",
   "metadata": {
    "slideshow": {
     "slide_type": "subslide"
    }
   },
   "source": [
    "* Aggregate panel data\n",
    "  - [Penn World Table](https://www.rug.nl/ggdc/productivity/pwt/?lang=en)\n",
    "  - [Atlas Trade Data](https://atlas.cid.harvard.edu/about-data)\n",
    "  - [IMF databases](https://data.imf.org/?sk=388DFA60-1D26-4ADE-B505-A05A558D9A42&sId=1479329132316)"
   ]
  },
  {
   "cell_type": "markdown",
   "id": "f039ca56",
   "metadata": {
    "slideshow": {
     "slide_type": "slide"
    }
   },
   "source": [
    "## Gated Data\n",
    "\n",
    "* Applications needed\n",
    "  * Chinese Longitudinal Healthy Longevity Survey [link](https://www.icpsr.umich.edu/web/NACDA/studies/36692)\n",
    "  * China Household Finance Survey [link](https://chfs.swufe.edu.cn/)\n"
   ]
  },
  {
   "cell_type": "markdown",
   "id": "0da855f4",
   "metadata": {
    "slideshow": {
     "slide_type": "slide"
    }
   },
   "source": [
    "## CUHK Library\n",
    "\n",
    "* [LSEG (formerly Refinitiv)](http://easyaccess1.lib.cuhk.edu.hk/limited/refinitiv.html)\n",
    "* [WRDS](http://easyaccess1.lib.cuhk.edu.hk/limited/wrds.htm)\n",
    "* [CEIC](https://cas-ceicdata-com.easyaccess1.lib.cuhk.edu.hk/login#)\n"
   ]
  },
  {
   "cell_type": "markdown",
   "id": "d2929a2b",
   "metadata": {
    "slideshow": {
     "slide_type": "slide"
    }
   },
   "source": [
    "## Econ Department\n",
    "\n",
    "* WIND\n",
    "* CEIC\n",
    "* Bloomberg\n",
    "* China Census"
   ]
  },
  {
   "cell_type": "markdown",
   "id": "4d4bbd6b",
   "metadata": {
    "slideshow": {
     "slide_type": "slide"
    }
   },
   "source": [
    "## Time Series\n",
    "\n",
    "- Macroeconomics\n",
    "  - 国家统计局 [National Bureau of Statistics](https://data.stats.gov.cn/easyquery.htm?cn=B01)\n",
    "  - Federal Reserve [FRED database](https://research.stlouisfed.org/econ/mccracken/fred-databases/)\n",
    "- Financial\n",
    "  - [Yahoo Finance](https://finance.yahoo.com/)"
   ]
  },
  {
   "cell_type": "markdown",
   "id": "8bf6b2c4",
   "metadata": {
    "slideshow": {
     "slide_type": "slide"
    }
   },
   "source": [
    "## HK GDP\n",
    "\n",
    "* [Census and Statistics Department](https://www.censtatd.gov.hk/en/web_table.html?id=33#)\n",
    "  * Webpage With API"
   ]
  },
  {
   "cell_type": "code",
   "execution_count": 3,
   "id": "f8d373d9",
   "metadata": {
    "slideshow": {
     "slide_type": "fragment"
    }
   },
   "outputs": [],
   "source": [
    "import requests\n",
    "import pandas as pd\n",
    "import json\n",
    "import pandas_datareader as pdr\n",
    "import matplotlib.pyplot as plt\n",
    "import numpy as np\n"
   ]
  },
  {
   "cell_type": "code",
   "execution_count": null,
   "id": "640707e0",
   "metadata": {},
   "outputs": [],
   "source": [
    "\n",
    "url = \"https://www.censtatd.gov.hk/api/get.php?id=310-31003&lang=en&param=N4KABGBEDGBukC4yghSBxAIgBQPoGEB5AWW0IDkBRcgFUTAG1xU0AxTSAGmZckw+4s02fJS49UGUeKFQsrfKxlDI+AJIA1ZbwAa6AMrbJxA0bR6zUHYcEqTlyMUMSAuswC+tyAGd4SFJJE5PRMspAASgCGAO64xLgAFgDWACa4KQ4AmgD2mbgAjCkADrgApLjekK4eXkUApgBOAJbZGf4SPgAukQ2d9JAATAAMA-lD+VUQnsyQTW1QAMxjALRLQ0MLypAANpEAdgDm-XV7Ve5AA\"\n",
    "\n",
    "response = requests.get(url)\n",
    "data = response.json()\n",
    "\n",
    "df = pd.DataFrame(data['dataSet'])\n",
    "df"
   ]
  },
  {
   "cell_type": "markdown",
   "id": "abf0bbd4",
   "metadata": {
    "slideshow": {
     "slide_type": "slide"
    }
   },
   "source": [
    "## Federal Reserve\n",
    "\n",
    "* China GDP [[link](https://fred.stlouisfed.org/series/MKTGDPCNA646NWDB)]\n",
    "\n",
    "* [DataReader](https://pydata.github.io/pandas-datareader/devel/remote_data.html) provides direct online access."
   ]
  },
  {
   "cell_type": "code",
   "execution_count": null,
   "id": "23979204",
   "metadata": {
    "slideshow": {
     "slide_type": "fragment"
    }
   },
   "outputs": [],
   "source": [
    "data = pdr.get_data_fred('MKTGDPCNA646NWDB')\n",
    "print(data)\n",
    "data.plot()\n",
    "plt.show()"
   ]
  },
  {
   "cell_type": "markdown",
   "id": "cf8a78a8",
   "metadata": {
    "slideshow": {
     "slide_type": "subslide"
    }
   },
   "source": [
    "\n",
    "Another example: [Quarterly US Industrial Production Index](https://fred.stlouisfed.org/series/IPB50001SQ)\n"
   ]
  },
  {
   "cell_type": "code",
   "execution_count": null,
   "id": "b3cc2d07",
   "metadata": {
    "slideshow": {
     "slide_type": "subslide"
    }
   },
   "outputs": [],
   "source": [
    "data = pdr.get_data_fred('IPB50001SQ')\n",
    "data.plot()\n",
    "plt.show()\n"
   ]
  },
  {
   "cell_type": "markdown",
   "id": "ac86698f",
   "metadata": {
    "slideshow": {
     "slide_type": "slide"
    }
   },
   "source": [
    "## Finance Data\n",
    "\n",
    "\n",
    "* [Yahoo Finance](https://finance.yahoo.com/)\n",
    "\n",
    "* Tick `AAPL` for *Apple Inc.* "
   ]
  },
  {
   "cell_type": "code",
   "execution_count": null,
   "id": "e4a164e0",
   "metadata": {
    "slideshow": {
     "slide_type": "subslide"
    }
   },
   "outputs": [],
   "source": [
    "import yfinance as yf\n",
    "\n",
    "data = yf.download('AAPL')\n",
    "print(data.tail())\n",
    "data['Close'].plot()\n",
    "plt.show()"
   ]
  },
  {
   "cell_type": "markdown",
   "id": "4a40d66c",
   "metadata": {
    "slideshow": {
     "slide_type": "slide"
    }
   },
   "source": [
    "### Shanghai Composite Index"
   ]
  },
  {
   "cell_type": "code",
   "execution_count": null,
   "id": "3471f635",
   "metadata": {
    "slideshow": {
     "slide_type": "fragment"
    }
   },
   "outputs": [],
   "source": [
    "data = yf.download(\"000001.SS\", start='2000-01-01')\n",
    "data['Close'].plot()\n",
    "plt.show()"
   ]
  },
  {
   "cell_type": "markdown",
   "id": "f15f1a2d",
   "metadata": {
    "slideshow": {
     "slide_type": "slide"
    }
   },
   "source": [
    "### 000001.SS Return"
   ]
  },
  {
   "cell_type": "code",
   "execution_count": null,
   "id": "ed9b3548",
   "metadata": {
    "slideshow": {
     "slide_type": "fragment"
    }
   },
   "outputs": [],
   "source": [
    "import numpy as np\n",
    "\n",
    "SH = data['Close']\n",
    "SH_diff = np.diff(np.log(SH))\n",
    "\n",
    "plt.plot(SH_diff)\n",
    "plt.show()"
   ]
  },
  {
   "cell_type": "markdown",
   "id": "4319f4cf",
   "metadata": {
    "slideshow": {
     "slide_type": "slide"
    }
   },
   "source": [
    "### Cryptocurrencies"
   ]
  },
  {
   "cell_type": "code",
   "execution_count": null,
   "id": "9a9e69ed",
   "metadata": {
    "slideshow": {
     "slide_type": "fragment"
    }
   },
   "outputs": [],
   "source": [
    "BTC = yf.download('BTC-USD', start='2021-07-01')['Close']\n",
    "ETH = yf.download('ETH-USD', start='2021-07-01')['Close']\n",
    "\n",
    "plt.figure(figsize=(10, 5))\n",
    "plt.subplot(1, 2, 1)\n",
    "BTC.plot()\n",
    "plt.title('BTC-USD')\n",
    "\n",
    "plt.subplot(1, 2, 2)\n",
    "ETH.plot()\n",
    "plt.title('ETH-USD')\n",
    "\n",
    "plt.figure(figsize=(10, 5))\n",
    "plt.plot(ETH.values, BTC.values)\n",
    "plt.xlabel('ETH')\n",
    "plt.ylabel('BTC')\n",
    "plt.title('BTC vs ETH')\n",
    "plt.show()"
   ]
  },
  {
   "cell_type": "markdown",
   "id": "e6e904bb",
   "metadata": {
    "slideshow": {
     "slide_type": "slide"
    }
   },
   "source": [
    "## Repeated Data Download"
   ]
  },
  {
   "cell_type": "markdown",
   "id": "4a48ddf6",
   "metadata": {
    "slideshow": {
     "slide_type": "subslide"
    }
   },
   "source": [
    "* Example: HKMA [API](https://apidocs.hkma.gov.hk/documentation/market-data-and-statistics/daily-monetary-statistics/daily-figures-interbank-liquidity/)\n",
    "  * Save as a csv file\n",
    "  * Repeat the regular job via `cron` in Linux"
   ]
  },
  {
   "cell_type": "code",
   "execution_count": 8,
   "id": "2c864ead",
   "metadata": {
    "slideshow": {
     "slide_type": "subslide"
    }
   },
   "outputs": [],
   "source": [
    "url = \"https://api.hkma.gov.hk/public/market-data-and-statistics/daily-monetary-statistics/daily-figures-interbank-liquidity\"\n",
    "response = requests.get(url)\n",
    "data = response.json()\n",
    "\n",
    "hkma = pd.DataFrame(data['result'])\n",
    "hkma.to_csv('hkma.csv', index=False)"
   ]
  },
  {
   "cell_type": "markdown",
   "id": "2c083a15",
   "metadata": {},
   "source": [
    "## Access Database\n",
    "\n",
    "* API for CEIC"
   ]
  },
  {
   "cell_type": "markdown",
   "id": "d7678c55",
   "metadata": {
    "slideshow": {
     "slide_type": "slide"
    }
   },
   "source": [
    "### Bank Marketing Data\n",
    "\n",
    "\n",
    "* Direct marketing campaigns of a Portuguese banking institution. \n",
    "\n",
    "\n",
    "* S. Moro, R. Laureano and P. Cortez. Using Data Mining for Bank Direct Marketing: An Application of the CRISP-DM Methodology. In P. Novais et al. (Eds.), Proceedings of the European Simulation and Modelling Conference - ESM'2011, pp. 117-121, Guimarães, Portugal, October, 2011. EUROSIS."
   ]
  },
  {
   "cell_type": "code",
   "execution_count": null,
   "id": "a0c7a75d",
   "metadata": {
    "slideshow": {
     "slide_type": "slide"
    }
   },
   "outputs": [],
   "source": [
    "import pandas as pd\n",
    "\n",
    "# Read the CSV file\n",
    "d0 = pd.read_csv('data_example/bank-full.csv', delimiter=';', \n",
    "                 dtype={'age': int, 'job': str, 'balance': int})\n",
    "\n",
    "# Display the first few rows\n",
    "print(d0.head())\n",
    "\n",
    "# Display the column names\n",
    "print(d0.columns)"
   ]
  },
  {
   "cell_type": "markdown",
   "id": "8e87a3dd",
   "metadata": {
    "slideshow": {
     "slide_type": "slide"
    }
   },
   "source": [
    "## Data Transformation\n",
    "\n",
    "* pick out a subset of rows that satisfies some conditions\n",
    "* pick out a subset of columns\n",
    "* order rows. Default ordering is from low to high\n",
    "* add columns produced by the existing ones"
   ]
  },
  {
   "cell_type": "code",
   "execution_count": null,
   "id": "b0788290",
   "metadata": {
    "slideshow": {
     "slide_type": "slide"
    }
   },
   "outputs": [],
   "source": [
    "# Select columns\n",
    "d1 = d0.loc[:, 'age':'housing']\n",
    "d1.head()"
   ]
  },
  {
   "cell_type": "code",
   "execution_count": null,
   "id": "78676d83",
   "metadata": {
    "slideshow": {
     "slide_type": "slide"
    }
   },
   "outputs": [],
   "source": [
    "d1.head(5)"
   ]
  },
  {
   "cell_type": "code",
   "execution_count": null,
   "id": "10664465",
   "metadata": {
    "slideshow": {
     "slide_type": "fragment"
    }
   },
   "outputs": [],
   "source": [
    "d1.iloc[9:20]"
   ]
  },
  {
   "cell_type": "code",
   "execution_count": null,
   "id": "3ae7bc6d",
   "metadata": {
    "slideshow": {
     "slide_type": "slide"
    }
   },
   "outputs": [],
   "source": [
    "# Select a subset by conditions\n",
    "d1[(d1['job'] == 'blue-collar') & (d1['age'] > 50)]\n"
   ]
  },
  {
   "cell_type": "code",
   "execution_count": null,
   "id": "f04c270b",
   "metadata": {
    "slideshow": {
     "slide_type": "subslide"
    }
   },
   "outputs": [],
   "source": [
    "d1[(d1['job'] == 'blue-collar') & (d1['age'] > 20) & (d1['age'] <= 30)]"
   ]
  },
  {
   "cell_type": "code",
   "execution_count": null,
   "id": "0ee6d262",
   "metadata": {
    "slideshow": {
     "slide_type": "slide"
    }
   },
   "outputs": [],
   "source": [
    "# (re)arrange rows\n",
    "d1.sort_values(['age', 'education'])"
   ]
  },
  {
   "cell_type": "code",
   "execution_count": null,
   "id": "61581cfb",
   "metadata": {
    "slideshow": {
     "slide_type": "subslide"
    }
   },
   "outputs": [],
   "source": [
    "d1.sort_values(['age', 'education'], ascending=[False, True])"
   ]
  },
  {
   "cell_type": "code",
   "execution_count": null,
   "id": "89cad3f9",
   "metadata": {
    "slideshow": {
     "slide_type": "slide"
    }
   },
   "outputs": [],
   "source": [
    "# Add generated columns (last column)\n",
    "d1['edu_f'] = d1['education'].astype('category').cat.codes\n",
    "d1.head()"
   ]
  },
  {
   "cell_type": "code",
   "execution_count": null,
   "id": "adba3dbb",
   "metadata": {
    "slideshow": {
     "slide_type": "fragment"
    }
   },
   "outputs": [],
   "source": [
    "# Create new dataframe with specified columns\n",
    "d1_transmuted = d1[['age', 'marital', 'education']].copy()\n",
    "\n",
    "d1_transmuted['marital'] = d1_transmuted['marital'].astype('category').cat.codes\n",
    "d1_transmuted['education'] = d1_transmuted['education'].astype('category').cat.codes\n",
    "d1_transmuted.head()"
   ]
  },
  {
   "cell_type": "code",
   "execution_count": null,
   "id": "02cc3e22",
   "metadata": {
    "slideshow": {
     "slide_type": "subslide"
    }
   },
   "outputs": [],
   "source": [
    "# Convert the integer columns to strings so that they become dummy variables\n",
    "d1_dummy = d1_transmuted.copy()\n",
    "d1_dummy['marital'] = d1_dummy['marital'].astype(str)\n",
    "d1_dummy['education'] = d1_dummy['education'].astype(str)\n",
    "\n",
    "# Create dummy variables for all columns\n",
    "dummies = pd.get_dummies(d1_dummy, columns=['marital', 'education'])\n",
    "dummies.head()"
   ]
  },
  {
   "cell_type": "markdown",
   "id": "a6c60de1",
   "metadata": {
    "slideshow": {
     "slide_type": "slide"
    }
   },
   "source": [
    "## Summarize\n",
    "\n",
    "* `group_by`"
   ]
  },
  {
   "cell_type": "code",
   "execution_count": null,
   "id": "14c3499d",
   "metadata": {
    "slideshow": {
     "slide_type": "fragment"
    }
   },
   "outputs": [],
   "source": [
    "# Overall mean balance\n",
    "mean_b = d1['balance'].mean()\n",
    "print(f'Mean Balance: {mean_b}')"
   ]
  },
  {
   "cell_type": "code",
   "execution_count": null,
   "id": "f6b32330",
   "metadata": {
    "slideshow": {
     "slide_type": "fragment"
    }
   },
   "outputs": [],
   "source": [
    "# Mean balance by groups\n",
    "mean_balance_by_education = d1.groupby('education')['balance'].mean()\n",
    "print(mean_balance_by_education)"
   ]
  },
  {
   "cell_type": "code",
   "execution_count": null,
   "id": "629c37c4",
   "metadata": {
    "scrolled": true,
    "slideshow": {
     "slide_type": "slide"
    }
   },
   "outputs": [],
   "source": [
    "# Mean, standard deviation and count by groups\n",
    "grouped = d1.groupby(['education', 'marital'])\n",
    "summary = grouped['balance'].agg(['mean', 'std', 'count'])\n",
    "summary.columns = ['mean_b', 'sd_b', 'count_n']\n",
    "print(summary)"
   ]
  }
 ],
 "metadata": {
  "celltoolbar": "Slideshow",
  "kernelspec": {
   "display_name": "base",
   "language": "python",
   "name": "python3"
  },
  "language_info": {
   "codemirror_mode": {
    "name": "ipython",
    "version": 3
   },
   "file_extension": ".py",
   "mimetype": "text/x-python",
   "name": "python",
   "nbconvert_exporter": "python",
   "pygments_lexer": "ipython3",
   "version": "3.11.3"
  },
  "rise": {
   "enable_chalkboard": true,
   "scroll": true,
   "theme": "serif"
  }
 },
 "nbformat": 4,
 "nbformat_minor": 5
}
