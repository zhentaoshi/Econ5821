{
 "cells": [
  {
   "cell_type": "markdown",
   "metadata": {
    "slideshow": {
     "slide_type": "slide"
    }
   },
   "source": [
    "# Lecture 3: \n",
    "Visualization\n",
    "\n",
    "## Zhentao Shi\n",
    "\n",
    "\n",
    "<img src=\"graph/Minard.png\" width=\"1000\">\n",
    "\n",
    "kernel: base (python 3.11.3)"
   ]
  },
  {
   "cell_type": "markdown",
   "metadata": {
    "slideshow": {
     "slide_type": "slide"
    }
   },
   "source": [
    "## Graphs\n",
    "\n",
    "* \"One picture is worth ten thousand words\".\n",
    "* Modern graphs: web-based, interactive.\n",
    "\n",
    "* Academia\n",
    "* Journalism: Economist, SCMP, ..."
   ]
  },
  {
   "cell_type": "code",
   "execution_count": null,
   "metadata": {
    "slideshow": {
     "slide_type": "slide"
    }
   },
   "outputs": [],
   "source": [
    "import numpy as np  \n",
    "import pandas as pd  \n",
    "import matplotlib.pyplot as plt\n",
    "import datetime"
   ]
  },
  {
   "cell_type": "code",
   "execution_count": null,
   "metadata": {
    "slideshow": {
     "slide_type": "slide"
    }
   },
   "outputs": [],
   "source": [
    "# Read the CSV file\n",
    "d0 = pd.read_csv(\"data_example/AJR.csv\")\n",
    "\n",
    "# Plot the data\n",
    "plt.scatter(d0['avexpr'], d0['logpgp95'])\n",
    "plt.xlabel('avexpr')\n",
    "plt.ylabel('logpgp95')\n",
    "plt.show()"
   ]
  },
  {
   "cell_type": "code",
   "execution_count": null,
   "metadata": {
    "slideshow": {
     "slide_type": "slide"
    }
   },
   "outputs": [],
   "source": [
    "\n",
    "# Read the CSV file\n",
    "bank_0 = pd.read_csv(\"data_example/bank-full.csv\", sep=\";\")\n",
    "\n",
    "# Display the dataframe\n",
    "print(bank_0)\n",
    "\n",
    "# Print the names of the columns\n",
    "print(bank_0.columns)"
   ]
  },
  {
   "cell_type": "code",
   "execution_count": null,
   "metadata": {
    "slideshow": {
     "slide_type": "slide"
    }
   },
   "outputs": [],
   "source": [
    "# Scatter plot\n",
    "plt.scatter(bank_0['age'], bank_0['balance'])\n",
    "plt.xlabel('Age')\n",
    "plt.ylabel('Balance')\n",
    "plt.show()"
   ]
  },
  {
   "cell_type": "code",
   "execution_count": null,
   "metadata": {
    "slideshow": {
     "slide_type": "slide"
    }
   },
   "outputs": [],
   "source": [
    "# Scatter plot with groups\n",
    "import seaborn as sns\n",
    "sns.scatterplot(data=bank_0, x='age', y='balance', hue='education', alpha=0.5)\n",
    "plt.show()"
   ]
  },
  {
   "cell_type": "code",
   "execution_count": null,
   "metadata": {
    "slideshow": {
     "slide_type": "slide"
    }
   },
   "outputs": [],
   "source": [
    "# Create a FacetGrid\n",
    "g = sns.FacetGrid(bank_0, col='education', row='marital')\n",
    "\n",
    "# Map a scatter plot to the FacetGrid\n",
    "g.map(plt.scatter, 'age', 'balance', alpha=0.5)\n",
    "\n",
    "# Show the plot\n",
    "plt.show()"
   ]
  },
  {
   "cell_type": "code",
   "execution_count": null,
   "metadata": {
    "slideshow": {
     "slide_type": "slide"
    }
   },
   "outputs": [],
   "source": [
    "# Bar plot with 'education' as hue\n",
    "sns.countplot(data=bank_0, x='age', hue='education')\n",
    "plt.show()"
   ]
  },
  {
   "cell_type": "code",
   "execution_count": null,
   "metadata": {
    "slideshow": {
     "slide_type": "subslide"
    }
   },
   "outputs": [],
   "source": [
    "# Dodged bar plot with 'education' as hue\n",
    "sns.countplot(data=bank_0, y='age', hue='education', dodge=True)\n",
    "plt.show()"
   ]
  },
  {
   "cell_type": "markdown",
   "metadata": {
    "slideshow": {
     "slide_type": "slide"
    }
   },
   "source": [
    "### Data Manipulation"
   ]
  },
  {
   "cell_type": "code",
   "execution_count": null,
   "metadata": {
    "slideshow": {
     "slide_type": "fragment"
    }
   },
   "outputs": [],
   "source": [
    "# Read the CSV file\n",
    "d0 = pd.read_csv(\"data_example/PWT100.csv\")\n",
    "\n",
    "# Display the first few rows of the dataframe\n",
    "print(d0.head())\n",
    "\n",
    "# Print the names of the columns\n",
    "print(d0.columns)"
   ]
  },
  {
   "cell_type": "code",
   "execution_count": null,
   "metadata": {
    "slideshow": {
     "slide_type": "slide"
    }
   },
   "outputs": [],
   "source": [
    "# Select specific columns and filter rows\n",
    "d1 = d0[['countrycode', 'year', 'rgdpe', 'pop']]\n",
    "d1 = d1[d1['countrycode'].isin(['CHN', 'RUS', 'JPN', 'USA'])]\n",
    "\n",
    "# Create new column 'gdpcapita'\n",
    "d1['gdpcapita'] = d1['rgdpe'] / d1['pop']\n",
    "\n",
    "# Print the dataframe\n",
    "print(d1)"
   ]
  },
  {
   "cell_type": "code",
   "execution_count": null,
   "metadata": {
    "slideshow": {
     "slide_type": "subslide"
    }
   },
   "outputs": [],
   "source": [
    "# Scatter plot with 'countrycode' as hue\n",
    "sns.scatterplot(data=d1, x='year', y='rgdpe', hue='countrycode')\n",
    "plt.show()"
   ]
  },
  {
   "cell_type": "code",
   "execution_count": null,
   "metadata": {
    "slideshow": {
     "slide_type": "subslide"
    }
   },
   "outputs": [],
   "source": [
    "# Line plot with 'countrycode' as hue\n",
    "sns.lineplot(data=d1, x='year', y='gdpcapita', hue='countrycode')\n",
    "plt.show()"
   ]
  },
  {
   "cell_type": "code",
   "execution_count": null,
   "metadata": {
    "slideshow": {
     "slide_type": "slide"
    }
   },
   "outputs": [],
   "source": [
    "# Select specific columns\n",
    "s1 = d1[['countrycode', 'year', 'pop']]\n",
    "\n",
    "# Spread 'year' column into multiple columns with 'pop' as values\n",
    "s1 = s1.pivot(index='countrycode', columns='year', values='pop')\n",
    "\n",
    "print(s1)"
   ]
  },
  {
   "cell_type": "code",
   "execution_count": null,
   "metadata": {
    "slideshow": {
     "slide_type": "slide"
    }
   },
   "outputs": [],
   "source": [
    "# Gather '1950' to '2019' columns into key-value pairs\n",
    "s1 = s1.reset_index().melt(id_vars='countrycode', var_name='year', value_name='pop')\n",
    "\n",
    "# Print the dataframe\n",
    "print(s1)"
   ]
  },
  {
   "cell_type": "markdown",
   "metadata": {
    "slideshow": {
     "slide_type": "slide"
    }
   },
   "source": [
    "## Interactive Graphs\n",
    "\n",
    "* [Plotly Express](https://plotly.com/graphing-libraries/)\n",
    "  * [Youtube](https://www.youtube.com/watch?v=_b2KXL0wHQg)\n"
   ]
  },
  {
   "cell_type": "code",
   "execution_count": null,
   "metadata": {
    "slideshow": {
     "slide_type": "fragment"
    }
   },
   "outputs": [],
   "source": [
    "import plotly.express as px\n",
    "\n",
    "d0 = pd.read_csv(\"data_example/AJR.csv\")\n",
    "fig = px.scatter(d0, x='avexpr', y='logpgp95', title='Scatter plot')\n",
    "fig.show()"
   ]
  },
  {
   "cell_type": "markdown",
   "metadata": {
    "slideshow": {
     "slide_type": "slide"
    }
   },
   "source": [
    "\n",
    "\n",
    "\n",
    "* Shinny for Python [posit](https://shiny.posit.co/py/docs/overview.html): [gallary](https://shiny.posit.co/py/gallery/)\n",
    "* [Shinny Express](https://shiny.posit.co/blog/posts/shiny-express/)\n",
    "  * Demo: [Shenzhen housing](https://zhentao-shi.shinyapps.io/ShenzhenHousing-Shiny/)\n",
    "  * Web scrapper: `data_example/Scrape_Lianjia.ipynb`\n"
   ]
  },
  {
   "cell_type": "markdown",
   "metadata": {},
   "source": []
  }
 ],
 "metadata": {
  "celltoolbar": "Slideshow",
  "kernelspec": {
   "display_name": "base",
   "language": "python",
   "name": "python3"
  },
  "language_info": {
   "codemirror_mode": {
    "name": "ipython",
    "version": 3
   },
   "file_extension": ".py",
   "mimetype": "text/x-python",
   "name": "python",
   "nbconvert_exporter": "python",
   "pygments_lexer": "ipython3",
   "version": "3.11.3"
  },
  "rise": {
   "enable_chalkboard": true,
   "scroll": true,
   "theme": "serif"
  }
 },
 "nbformat": 4,
 "nbformat_minor": 2
}
