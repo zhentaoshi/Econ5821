{
 "cells": [
  {
   "cell_type": "code",
   "execution_count": 1,
   "metadata": {},
   "outputs": [
    {
     "ename": "ModuleNotFoundError",
     "evalue": "No module named 'torch'",
     "output_type": "error",
     "traceback": [
      "\u001b[1;31m---------------------------------------------------------------------------\u001b[0m",
      "\u001b[1;31mModuleNotFoundError\u001b[0m                       Traceback (most recent call last)",
      "Cell \u001b[1;32mIn[1], line 1\u001b[0m\n\u001b[1;32m----> 1\u001b[0m \u001b[38;5;28;01mimport\u001b[39;00m \u001b[38;5;21;01mtorch\u001b[39;00m\n\u001b[0;32m      2\u001b[0m \u001b[38;5;28;01mimport\u001b[39;00m \u001b[38;5;21;01mtorch\u001b[39;00m\u001b[38;5;21;01m.\u001b[39;00m\u001b[38;5;21;01mnn\u001b[39;00m \u001b[38;5;28;01mas\u001b[39;00m \u001b[38;5;21;01mnn\u001b[39;00m\n\u001b[0;32m      3\u001b[0m \u001b[38;5;28;01mimport\u001b[39;00m \u001b[38;5;21;01mtorch\u001b[39;00m\u001b[38;5;21;01m.\u001b[39;00m\u001b[38;5;21;01moptim\u001b[39;00m \u001b[38;5;28;01mas\u001b[39;00m \u001b[38;5;21;01moptim\u001b[39;00m\n",
      "\u001b[1;31mModuleNotFoundError\u001b[0m: No module named 'torch'"
     ]
    }
   ],
   "source": [
    "import torch\n",
    "import torch.nn as nn\n",
    "import torch.optim as optim\n"
   ]
  },
  {
   "cell_type": "code",
   "execution_count": null,
   "metadata": {},
   "outputs": [],
   "source": [
    "class PoissonRegression(nn.Module):\n",
    "    def __init__(self, input_dim):\n",
    "        super(PoissonRegression, self).__init__()\n",
    "        self.linear = nn.Linear(input_dim, 1)\n",
    "\n",
    "    def forward(self, x):\n",
    "        return torch.exp(self.linear(x))\n"
   ]
  },
  {
   "cell_type": "markdown",
   "metadata": {},
   "source": [
    "generate data"
   ]
  },
  {
   "cell_type": "code",
   "execution_count": null,
   "metadata": {},
   "outputs": [],
   "source": [
    "import numpy as np\n",
    "import random\n",
    "\n",
    "# Generate the artificial data\n",
    "\n",
    "n_total = int(20000)\n",
    "K = 100\n",
    "X = np.column_stack((np.ones(n_total), np.random.rand(n_total * (K - 1)).reshape(n_total, K - 1)))\n",
    "b0 = 1.0 * np.ones(K) / K\n",
    "y = np.random.poisson(np.exp(X.dot(b0)))\n"
   ]
  },
  {
   "cell_type": "code",
   "execution_count": null,
   "metadata": {},
   "outputs": [],
   "source": [
    "# Split the data into train and test sets\n",
    "n = len(y)\n",
    "test_indices = random.sample(range(n), round(0.2 * n))\n",
    "\n",
    "y_test = y[test_indices]\n",
    "X_test = X[test_indices, :]\n",
    "\n",
    "y_train = np.delete(y, test_indices)\n",
    "X_train = np.delete(X, test_indices, axis=0)\n",
    "\n",
    "# convert X_train into a pytorch tensor\n",
    "X_train = torch.from_numpy(X_train).float()\n",
    "y_train = torch.from_numpy(y_train).float()"
   ]
  },
  {
   "cell_type": "code",
   "execution_count": null,
   "metadata": {},
   "outputs": [],
   "source": [
    "model = PoissonRegression(K) "
   ]
  },
  {
   "cell_type": "code",
   "execution_count": null,
   "metadata": {},
   "outputs": [],
   "source": [
    "def poisson_nll_loss(y_pred, y_true):\n",
    "    return torch.mean(y_pred - y_true * torch.log(y_pred)) # this is the correct formula. \n",
    "# y_pred is the linear index, y_true is the true value.\n",
    "\n"
   ]
  },
  {
   "cell_type": "code",
   "execution_count": null,
   "metadata": {},
   "outputs": [],
   "source": [
    "optimizer = optim.SGD(model.parameters(), lr=0.01)\n",
    "\n",
    "\n",
    "batch_size = 100\n",
    "num_batches = X_train.size(0) // batch_size\n",
    "\n",
    "for epoch in range(100):  # number of epochs\n",
    "    for i in range(num_batches):\n",
    "        start_idx = i * batch_size\n",
    "        end_idx = start_idx + batch_size\n",
    "\n",
    "        X_batch = X_train[start_idx:end_idx]\n",
    "        y_batch = y_train[start_idx:end_idx]\n",
    "\n",
    "        optimizer.zero_grad()\n",
    "        y_pred = model(X_batch)  # the linear index\n",
    "        loss = poisson_nll_loss(y_pred, y_batch)\n",
    "        loss.backward()\n",
    "        optimizer.step()\n",
    "\n",
    "    if epoch % 1 == 0:  # print every epoch\n",
    "        print(f'Epoch {epoch+1}, Loss: {loss.item()}')"
   ]
  },
  {
   "cell_type": "code",
   "execution_count": null,
   "metadata": {},
   "outputs": [
    {
     "name": "stdout",
     "output_type": "stream",
     "text": [
      "OrderedDict([('linear.weight', tensor([[ 0.1144,  0.0591,  0.0363, -0.0234, -0.0331,  0.0234,  0.0042,  0.0778,\n",
      "         -0.0607,  0.0329,  0.0043,  0.0930, -0.0373,  0.0163, -0.0069, -0.0654,\n",
      "         -0.0276, -0.0438,  0.0172,  0.0405, -0.0676, -0.0195, -0.0185,  0.0292,\n",
      "          0.0843, -0.0662, -0.0750,  0.0204,  0.0678,  0.0853,  0.0416, -0.0180,\n",
      "          0.0500, -0.0008,  0.0454, -0.0146, -0.0568,  0.0249,  0.0283,  0.0454,\n",
      "          0.0639, -0.0489, -0.0442,  0.0788,  0.0266,  0.0544,  0.0533, -0.0238,\n",
      "          0.0917, -0.0546, -0.0019, -0.0618, -0.0693,  0.0072, -0.0689, -0.0681,\n",
      "         -0.0014, -0.0111, -0.0213,  0.0823, -0.0713,  0.0230,  0.0167, -0.0067,\n",
      "         -0.0458, -0.0031,  0.0464,  0.0140,  0.0736,  0.0423, -0.0470, -0.0199,\n",
      "          0.0314, -0.0045, -0.0694,  0.0891,  0.0715, -0.0007,  0.0555,  0.0116,\n",
      "         -0.0011,  0.0347, -0.0020, -0.0372, -0.0108, -0.0502,  0.0958, -0.0288,\n",
      "          0.0827,  0.0138, -0.0731,  0.0508,  0.0811,  0.0830,  0.0303, -0.0406,\n",
      "         -0.0363,  0.0280, -0.0104,  0.0881]])), ('linear.bias', tensor([-0.0076]))])\n"
     ]
    }
   ],
   "source": [
    "# print the coefficients of the model\n",
    "\n",
    "# print(model.state_dict()['linear.weight'])\n",
    "print(model.state_dict())"
   ]
  },
  {
   "cell_type": "code",
   "execution_count": null,
   "metadata": {},
   "outputs": [],
   "source": []
  }
 ],
 "metadata": {
  "kernelspec": {
   "display_name": "Python 3 (ipykernel)",
   "language": "python",
   "name": "python3"
  },
  "language_info": {
   "codemirror_mode": {
    "name": "ipython",
    "version": 3
   },
   "file_extension": ".py",
   "mimetype": "text/x-python",
   "name": "python",
   "nbconvert_exporter": "python",
   "pygments_lexer": "ipython3",
   "version": "3.11.3"
  }
 },
 "nbformat": 4,
 "nbformat_minor": 2
}
